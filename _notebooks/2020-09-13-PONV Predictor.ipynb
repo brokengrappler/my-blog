{
 "cells": [
  {
   "cell_type": "markdown",
   "metadata": {},
   "source": [
    "# Classifier Model to Predict PONV\n",
    "> Detecting Post Operative Nausea and Vomiting before it happens\n",
    "\n",
    "- toc: true \n",
    "- badges: true\n",
    "- comments: true\n",
    "- categories: [jupyter]"
   ]
  },
  {
   "cell_type": "markdown",
   "metadata": {},
   "source": [
    "## Background"
   ]
  },
  {
   "cell_type": "markdown",
   "metadata": {},
   "source": [
    "\"I thought you were done with your first project? What're you stressing about?\" my wife asked at dinner. Little did she know that I felt a substantial amount of pressure to come up with a meaningful topic since I had selected a trivial topic for the first of my four bootcamp projects. I tried to play it cool though and replied, \"Yeah, I'm thinking ahead to my next project. Is "
   ]
  },
  {
   "cell_type": "markdown",
   "metadata": {},
   "source": [
    "## Learning Medicine via Wikipedia"
   ]
  },
  {
   "cell_type": "markdown",
   "metadata": {},
   "source": [
    "## Did I just perform ETL?"
   ]
  },
  {
   "cell_type": "markdown",
   "metadata": {},
   "source": [
    "- Grab csv files from a research paper written at a University in Sao Paulo\n",
    "- Clean NaN values, values that didn't make sense, columsn with 90% of data missing, etc.\n",
    "- Set up an EC/2 server with postgres and load the data\n",
    "- Create a few sub-tables (one for the different anesthetic drugs, another for the antiemetic drugs)"
   ]
  },
  {
   "cell_type": "markdown",
   "metadata": {},
   "source": [
    "## "
   ]
  }
 ],
 "metadata": {
  "kernelspec": {
   "display_name": "Python [conda env:metis] *",
   "language": "python",
   "name": "conda-env-metis-py"
  },
  "language_info": {
   "codemirror_mode": {
    "name": "ipython",
    "version": 3
   },
   "file_extension": ".py",
   "mimetype": "text/x-python",
   "name": "python",
   "nbconvert_exporter": "python",
   "pygments_lexer": "ipython3",
   "version": "3.8.3"
  }
 },
 "nbformat": 4,
 "nbformat_minor": 4
}
