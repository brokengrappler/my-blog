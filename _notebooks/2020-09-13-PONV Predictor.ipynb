{
 "cells": [
  {
   "cell_type": "markdown",
   "metadata": {},
   "source": [
    "# Classifier Model to Predict PONV\n",
    "> Detecting Post Operative Nausea and Vomiting before it happens\n",
    "\n",
    "- toc: true \n",
    "- badges: true\n",
    "- comments: true\n",
    "- categories: [jupyter]"
   ]
  },
  {
   "cell_type": "markdown",
   "metadata": {},
   "source": [
    "## Background"
   ]
  },
  {
   "cell_type": "markdown",
   "metadata": {},
   "source": [
    "\"I thought you just finished your first project? What're you stressing about?\" my wife asked at dinner. Little did she know that I felt unbelievable pressure to come up with a meaningful topic since I had selected a trivial one for the first of my four bootcamp projects. I tried to play it cool though and casually threw the ball back in her court. \"Yeah, I'm thinking ahead to my next project. Is there anything at work where predictive analytics might help?\"  \n",
    "\n",
    "My wife, who works in the medical field, started listing off the common medical classification problems you typically see on Kaggle. I was on a different wave length though. Being on a Freakonomics podcast kick, I wanted to solve a problem that was under the radar; something on a smaller scale that people overlooked but if solved, could result in substantial change for the better.\n",
    "\n",
    "My next question would lead to my project 3 topic. **\"Hey, you seem to talk with your patients a lot about nausea. What's that all about?\"**"
   ]
  },
  {
   "cell_type": "markdown",
   "metadata": {},
   "source": [
    "**Post Operative Nausea and Vomiting (PONV)** is the phenomenon of nausea, vomiting, or retching experienced by a patient in the postanesthesia care unit (PACU) or within 24 hours following a surgical procedure. The average incidence of PONV after general anesthesia is about 30% in all post-surgical patients but up to 80% in high-risk patients {% fn 1 %}. Getting a little motion sickness after an operation may not sound like it's a big deal but according to surveys, patients would rather be in pain than deal with nausea. What complicates this even further is nowadays, physicians and hospitals are reimbursed by insurance companies based on patient satisfaction surveys so if a patient gets PONV, it's not only additional resources spent helping patients recover, but also a hit to the hospital's bottom line.\n",
    "\n",
    "![](https://prccustomresearch.com/wp-content/uploads/2019/Blog_Images/GettyImages-157418952-1200x627.jpg)"
   ]
  },
  {
   "cell_type": "markdown",
   "metadata": {},
   "source": [
    "Anesthesiologists are the doctors typically tasked to deal with PONV and many of them use the simplified scoring system in the chart below. Surely there's a way to use more data and make this a more precise scoring system if it's that important.\n",
    "\n",
    "![](../images/PONV/apfel_score.jpg)"
   ]
  },
  {
   "cell_type": "markdown",
   "metadata": {},
   "source": [
    "## Did I just perform ETL?"
   ]
  },
  {
   "cell_type": "markdown",
   "metadata": {},
   "source": [
    "### Step 1: Clean the data\n",
    "\n",
    "I would've loved to do more healthcare related data science projects but the primary hurdle was accessibility to data. Fortunatley for this subject, I was able to find some raw data that was available from a research paper written by a physician at the University of Sao Paulo {% fn 2 %}. While I was grateful to have the data, it wasn't the cleanest. There was a lot of information missing and some of it didn't make any sense. Example:\n",
    "\n",
    "**Patient 2**  \n",
    "**Smoker?:** No  \n",
    "**Last cigarette?** 2 weeks ago  \n",
    "\n",
    "I had to make judgment calls for cases like this, which was to say that I assumed if a human were to make an error, it'd be in filling out whether they are a smoker or not rather than accidentally filling out that they last smoked a cigarette 2 weeks ago.\n",
    "\n",
    "### Step 2: Put it in the cloud\n",
    "\n",
    "One of the requirements for the assignment was to set up a SQL database on an AWS EC/2 machine. While I had gotten somewhat comfortable running queries, creating a table consisting of over 60 features as my first table ever was a bit challenging. Of course I had a near meltdown when it finally ran and the output came out like this:\n",
    "![](../images/IMG_2747.JPG)\n",
    "\n",
    "Word to the wise: use SQL clients. It turned out that's just what things look like on CLI sometimes."
   ]
  },
  {
   "cell_type": "markdown",
   "metadata": {},
   "source": [
    "### Step 3: Never tell me the odds... from a tree"
   ]
  },
  {
   "cell_type": "markdown",
   "metadata": {},
   "source": [
    "Having true probability was an important component so my choices were either Naive Bayes or Logistic Regression in terms of models. \n",
    "\n",
    "In terms of metrics, I first optimized for ROC/AUC and subsequently tuned to get the best F1. It was important to minimize both false-positives and false-negatives but quantifying which was more important to minimize was difficult. \n",
    "\n",
    "- **False-Positives**: On the surface, it might be easy to say that having more false-positives is the lesser of two evils. Aggressive treatment may require unnecessary use of drugs that counteract nausea but the drugs do come with side effects. There's a value to patient health and trying to quantify it is rarely straight forward.  \n",
    "- **False-Negatives**: If we're only looking 10 feet ahead of us, figuratively, there's a lot more short term consequences with not handling a high-risk PONV patient appropriately"
   ]
  },
  {
   "cell_type": "markdown",
   "metadata": {},
   "source": [
    "## Incremental Gain"
   ]
  },
  {
   "cell_type": "markdown",
   "metadata": {},
   "source": [
    "Although my model performed better for the test population, it was incremental and I would probably have to do some hypothesis testing to be able to explicitly say that the model is a superior substitute.\n",
    "\n",
    "![](../images/test_scores.png)\n",
    "\n",
    "The bigger issue though is that the Apfel test is so much simpler and yet it performed just as well. Unless the model can be improved to the point that it is substantively better than something like the Apfel scoring method, it wouldn't make sense for physicians to input values for nearly 5x the features.\n",
    "\n",
    "![](../images/Streamlit_PONV.png \"A snapshot of the app I made via StraemLit\")"
   ]
  },
  {
   "cell_type": "markdown",
   "metadata": {},
   "source": [
    "### Thoughts or Inputs?"
   ]
  },
  {
   "cell_type": "markdown",
   "metadata": {},
   "source": [
    "If you have thoughts on how I might change my approach to the PONV problem, I'm all ears!"
   ]
  },
  {
   "cell_type": "markdown",
   "metadata": {},
   "source": [
    "{{ 'Choi SU. Is postoperative nausea and vomiting still the big \"little\" problem?. Korean J Anesthesiol. 2016;69(1):1-2. doi:10.4097/kjae.2016.69.1.1' | fndetail: 1 }}  \n",
    "{{Guimaraes, Gabriel (2018), “PONV risk factors in onchological surgery”, Mendeley Data, v1\n",
    "http://dx.doi.org/10.17632/gsnj8vmgm2.1 | fndetail: 2}}"
   ]
  },
  {
   "cell_type": "code",
   "execution_count": null,
   "metadata": {},
   "outputs": [],
   "source": []
  }
 ],
 "metadata": {
  "kernelspec": {
   "display_name": "Python [conda env:metis] *",
   "language": "python",
   "name": "conda-env-metis-py"
  },
  "language_info": {
   "codemirror_mode": {
    "name": "ipython",
    "version": 3
   },
   "file_extension": ".py",
   "mimetype": "text/x-python",
   "name": "python",
   "nbconvert_exporter": "python",
   "pygments_lexer": "ipython3",
   "version": "3.8.3"
  }
 },
 "nbformat": 4,
 "nbformat_minor": 4
}
