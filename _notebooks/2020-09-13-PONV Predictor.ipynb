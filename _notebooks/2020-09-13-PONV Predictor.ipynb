{
 "cells": [
  {
   "cell_type": "markdown",
   "metadata": {},
   "source": [
    "# Classifier Model to Predict PONV\n",
    "> Detecting Post Operative Nausea and Vomiting before it happens\n",
    "\n",
    "- toc: true \n",
    "- badges: true\n",
    "- comments: true\n",
    "- categories: [jupyter]"
   ]
  },
  {
   "cell_type": "markdown",
   "metadata": {},
   "source": [
    "## Background"
   ]
  },
  {
   "cell_type": "markdown",
   "metadata": {},
   "source": [
    "\"I thought you just finished your first project? What're you stressing about?\" my wife asked at dinner. Little did she know that I felt unbelievable pressure to come up with a meaningful topic since I had selected a trivial one for the first of my four bootcamp projects. I tried to play it cool though and casually threw the ball back in her court. \"Yeah, I'm thinking ahead to my next project. Is there anything at work where predictive analytics might help?\"  \n",
    "\n",
    "My wife, who works in the medical field, started listing off the common medical classification problems you typically see on Kaggle. I was on a different wave length though. Being on a Freakonomics podcast kick, I wanted to solve a problem that was under the radar; something on a smaller scale that people overlooked but if solved, could result in substantial change for the better.\n",
    "\n",
    "My next question would lead to my project 3 topic. **\"Hey, you seem to talk with your patients a lot about nausea. What's that all about?\"**"
   ]
  },
  {
   "cell_type": "markdown",
   "metadata": {},
   "source": [
    "## Learning Medicine via Wikipedia"
   ]
  },
  {
   "cell_type": "markdown",
   "metadata": {},
   "source": [
    "**Post Operative Nausea and Vomiting (PONV)** is the phenomenon of nausea, vomiting, or retching experienced by a patient in the postanesthesia care unit (PACU) or within 24 hours following a surgical procedure. The average incidence of PONV after general anesthesia is about 30% in all post-surgical patients but up to 80% in high-risk patients {% fn 1 %}.  \n",
    "\n",
    "Anesthesiologists are the primary doctors who "
   ]
  },
  {
   "cell_type": "markdown",
   "metadata": {
    "ExecuteTime": {
     "end_time": "2020-09-15T20:51:37.847277Z",
     "start_time": "2020-09-15T20:51:37.681962Z"
    }
   },
   "source": [
    "![](../images/PONV/apfel_score.jpg)"
   ]
  },
  {
   "cell_type": "markdown",
   "metadata": {},
   "source": [
    "## Did I just perform ETL?"
   ]
  },
  {
   "cell_type": "markdown",
   "metadata": {},
   "source": [
    "- Grab csv files from a research paper written at a University in Sao Paulo\n",
    "- Clean NaN values, values that didn't make sense, columns with substantial data missing, etc.\n",
    "- Set up an EC/2 server with postgres and load the data\n",
    "- Create a few sub-tables (one for the different anesthetic drugs, another for the antiemetic drugs)"
   ]
  },
  {
   "cell_type": "markdown",
   "metadata": {},
   "source": [
    "## Never Tell Me the Odds... From a Tree"
   ]
  },
  {
   "cell_type": "markdown",
   "metadata": {},
   "source": [
    "## Incremental Gain"
   ]
  },
  {
   "cell_type": "markdown",
   "metadata": {},
   "source": [
    "{{ 'Choi SU. Is postoperative nausea and vomiting still the big \"little\" problem?. Korean J Anesthesiol. 2016;69(1):1-2. doi:10.4097/kjae.2016.69.1.1' | fndetail: 1 }}"
   ]
  },
  {
   "cell_type": "code",
   "execution_count": null,
   "metadata": {},
   "outputs": [],
   "source": []
  }
 ],
 "metadata": {
  "kernelspec": {
   "display_name": "Python [conda env:metis] *",
   "language": "python",
   "name": "conda-env-metis-py"
  },
  "language_info": {
   "codemirror_mode": {
    "name": "ipython",
    "version": 3
   },
   "file_extension": ".py",
   "mimetype": "text/x-python",
   "name": "python",
   "nbconvert_exporter": "python",
   "pygments_lexer": "ipython3",
   "version": "3.8.3"
  }
 },
 "nbformat": 4,
 "nbformat_minor": 4
}
